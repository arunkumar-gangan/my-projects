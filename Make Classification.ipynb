{
 "cells": [
  {
   "cell_type": "code",
   "execution_count": 1,
   "id": "dabcb4ef-30ae-499e-aefa-2d6dd4009956",
   "metadata": {},
   "outputs": [],
   "source": [
    "import pandas as pd\n",
    "from sklearn.datasets import make_classification\n",
    "from sklearn.model_selection import train_test_split, GridSearchCV\n",
    "from sklearn.preprocessing import StandardScaler\n",
    "from sklearn.linear_model import LogisticRegression\n",
    "from sklearn.ensemble import RandomForestClassifier\n",
    "from sklearn.svm import SVC\n",
    "from sklearn.neighbors import KNeighborsClassifier\n",
    "from sklearn.metrics import accuracy_score, classification_report\n",
    "import warnings\n",
    "warnings.filterwarnings('ignore')"
   ]
  },
  {
   "cell_type": "code",
   "execution_count": 2,
   "id": "69f2fa16-ee68-4a8f-b4ad-ed28129b061d",
   "metadata": {},
   "outputs": [],
   "source": [
    "# Generate synthetic classification dataset\n",
    "X, y = make_classification(\n",
    "    n_samples=1000, n_features=20, n_informative=10, n_redundant=5, \n",
    "    n_classes=3, n_clusters_per_class=2, random_state=42\n",
    ")"
   ]
  },
  {
   "cell_type": "code",
   "execution_count": 3,
   "id": "f049b5eb-ab0f-403a-adff-3d09fb8b42a9",
   "metadata": {},
   "outputs": [],
   "source": [
    "# Split data\n",
    "X_train, X_test, y_train, y_test = train_test_split(\n",
    "    X, y, test_size=0.2, random_state=42, stratify=y\n",
    ")"
   ]
  },
  {
   "cell_type": "code",
   "execution_count": 4,
   "id": "fae15f61-17cf-4cdc-abd9-8a4fd1c94d5c",
   "metadata": {},
   "outputs": [],
   "source": [
    "# Scale features\n",
    "scaler = StandardScaler()\n",
    "X_train_scaled = scaler.fit_transform(X_train)\n",
    "X_test_scaled = scaler.transform(X_test)"
   ]
  },
  {
   "cell_type": "code",
   "execution_count": 5,
   "id": "e8fa4e80-51aa-4544-86a9-ba07f0c0707e",
   "metadata": {},
   "outputs": [],
   "source": [
    "# Define models and hyperparameter grids\n",
    "models = {\n",
    "    \"Logistic Regression\": {\n",
    "        \"model\": LogisticRegression(max_iter=1000, multi_class='auto'),\n",
    "        \"params\": {\n",
    "            \"C\": [0.1, 1, 10],\n",
    "            \"solver\": ['lbfgs', 'liblinear']\n",
    "        }\n",
    "    },\n",
    "    \"Random Forest\": {\n",
    "        \"model\": RandomForestClassifier(random_state=42),\n",
    "        \"params\": {\n",
    "            \"n_estimators\": [50, 100],\n",
    "            \"max_depth\": [None, 10, 20]\n",
    "        }\n",
    "    },\n",
    "    \"SVM\": {\n",
    "        \"model\": SVC(probability=True),\n",
    "        \"params\": {\n",
    "            \"C\": [0.1, 1, 10],\n",
    "            \"kernel\": ['linear', 'rbf']\n",
    "        }\n",
    "    },\n",
    "    \"KNN\": {\n",
    "        \"model\": KNeighborsClassifier(),\n",
    "        \"params\": {\n",
    "            \"n_neighbors\": [3, 5, 7],\n",
    "            \"weights\": ['uniform', 'distance']\n",
    "        }\n",
    "    }\n",
    "}\n",
    "\n",
    "best_models = {}"
   ]
  },
  {
   "cell_type": "code",
   "execution_count": 6,
   "id": "f2911c3a-f414-409d-9a37-7c51de3eca2e",
   "metadata": {},
   "outputs": [
    {
     "name": "stdout",
     "output_type": "stream",
     "text": [
      "\n",
      " Tuning Logistic Regression...\n",
      " Best Parameters: {'C': 0.1, 'solver': 'lbfgs'}\n",
      " Accuracy: 0.6450\n",
      " Classification Report:\n",
      "              precision    recall  f1-score   support\n",
      "\n",
      "           0       0.50      0.45      0.48        66\n",
      "           1       0.67      0.78      0.72        67\n",
      "           2       0.76      0.70      0.73        67\n",
      "\n",
      "    accuracy                           0.65       200\n",
      "   macro avg       0.64      0.64      0.64       200\n",
      "weighted avg       0.64      0.65      0.64       200\n",
      "\n",
      "--------------------------------------------------\n",
      "\n",
      " Tuning Random Forest...\n",
      " Best Parameters: {'max_depth': 20, 'n_estimators': 100}\n",
      " Accuracy: 0.7800\n",
      " Classification Report:\n",
      "              precision    recall  f1-score   support\n",
      "\n",
      "           0       0.69      0.67      0.68        66\n",
      "           1       0.77      0.88      0.82        67\n",
      "           2       0.90      0.79      0.84        67\n",
      "\n",
      "    accuracy                           0.78       200\n",
      "   macro avg       0.78      0.78      0.78       200\n",
      "weighted avg       0.78      0.78      0.78       200\n",
      "\n",
      "--------------------------------------------------\n",
      "\n",
      " Tuning SVM...\n",
      " Best Parameters: {'C': 1, 'kernel': 'rbf'}\n",
      " Accuracy: 0.8150\n",
      " Classification Report:\n",
      "              precision    recall  f1-score   support\n",
      "\n",
      "           0       0.71      0.79      0.75        66\n",
      "           1       0.86      0.90      0.88        67\n",
      "           2       0.89      0.76      0.82        67\n",
      "\n",
      "    accuracy                           0.81       200\n",
      "   macro avg       0.82      0.81      0.82       200\n",
      "weighted avg       0.82      0.81      0.82       200\n",
      "\n",
      "--------------------------------------------------\n",
      "\n",
      " Tuning KNN...\n",
      " Best Parameters: {'n_neighbors': 7, 'weights': 'distance'}\n",
      " Accuracy: 0.7650\n",
      " Classification Report:\n",
      "              precision    recall  f1-score   support\n",
      "\n",
      "           0       0.70      0.68      0.69        66\n",
      "           1       0.90      0.82      0.86        67\n",
      "           2       0.71      0.79      0.75        67\n",
      "\n",
      "    accuracy                           0.77       200\n",
      "   macro avg       0.77      0.76      0.77       200\n",
      "weighted avg       0.77      0.77      0.77       200\n",
      "\n",
      "--------------------------------------------------\n"
     ]
    }
   ],
   "source": [
    "for name, mp in models.items():\n",
    "    print(f\"\\n Tuning {name}...\")\n",
    "    grid = GridSearchCV(mp['model'], mp['params'], cv=5, scoring='accuracy', n_jobs=-1)\n",
    "    grid.fit(X_train_scaled, y_train)\n",
    "    best_models[name] = grid.best_estimator_\n",
    "\n",
    "    y_pred = grid.predict(X_test_scaled)\n",
    "    acc = accuracy_score(y_test, y_pred)\n",
    "    print(f\" Best Parameters: {grid.best_params_}\")\n",
    "    print(f\" Accuracy: {acc:.4f}\")\n",
    "    print(\" Classification Report:\")\n",
    "    print(classification_report(y_test, y_pred))\n",
    "    print(\"-\" * 50)"
   ]
  },
  {
   "cell_type": "code",
   "execution_count": null,
   "id": "a9d4d6c7-e091-47ea-8646-11febf9b2411",
   "metadata": {},
   "outputs": [],
   "source": []
  }
 ],
 "metadata": {
  "kernelspec": {
   "display_name": "Python 3 (ipykernel)",
   "language": "python",
   "name": "python3"
  },
  "language_info": {
   "codemirror_mode": {
    "name": "ipython",
    "version": 3
   },
   "file_extension": ".py",
   "mimetype": "text/x-python",
   "name": "python",
   "nbconvert_exporter": "python",
   "pygments_lexer": "ipython3",
   "version": "3.12.7"
  }
 },
 "nbformat": 4,
 "nbformat_minor": 5
}
